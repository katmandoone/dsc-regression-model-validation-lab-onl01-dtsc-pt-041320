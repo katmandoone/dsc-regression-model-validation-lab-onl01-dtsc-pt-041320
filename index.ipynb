{
 "cells": [
  {
   "cell_type": "markdown",
   "metadata": {},
   "source": [
    "# Regression Model Validation - Lab\n",
    "\n",
    "## Introduction\n",
    "\n",
    "In this lab, you'll be able to validate your Boston Housing data model using train-test split.\n",
    "\n",
    "\n",
    "## Objectives\n",
    "\n",
    "You will be able to:\n",
    "\n",
    "- Compare training and testing errors to determine if model is over or underfitting\n"
   ]
  },
  {
   "cell_type": "markdown",
   "metadata": {},
   "source": [
    "## Let's use our Boston Housing Data again!\n",
    "\n",
    "This time, let's only include the variables that were previously selected using recursive feature elimination. We included the code to preprocess below."
   ]
  },
  {
   "cell_type": "code",
   "execution_count": 1,
   "metadata": {},
   "outputs": [],
   "source": [
    "import pandas as pd\n",
    "import numpy as np\n",
    "import matplotlib.pyplot as plt\n",
    "%matplotlib inline\n",
    "from sklearn.datasets import load_boston\n",
    "\n",
    "boston = load_boston()\n",
    "\n",
    "boston_features = pd.DataFrame(boston.data, columns = boston.feature_names)\n",
    "b = boston_features['B']\n",
    "logdis = np.log(boston_features['DIS'])\n",
    "loglstat = np.log(boston_features['LSTAT'])\n",
    "\n",
    "# Min-Max scaling\n",
    "boston_features['B'] = (b-min(b))/(max(b)-min(b))\n",
    "boston_features['DIS'] = (logdis-min(logdis))/(max(logdis)-min(logdis))\n",
    "\n",
    "# Standardization\n",
    "boston_features['LSTAT'] = (loglstat-np.mean(loglstat))/np.sqrt(np.var(loglstat))"
   ]
  },
  {
   "cell_type": "code",
   "execution_count": 2,
   "metadata": {},
   "outputs": [],
   "source": [
    "X = boston_features[['CHAS', 'RM', 'DIS', 'B', 'LSTAT']]\n",
    "y = pd.DataFrame(boston.target, columns = ['target'])"
   ]
  },
  {
   "cell_type": "markdown",
   "metadata": {},
   "source": [
    "### Perform a train-test split"
   ]
  },
  {
   "cell_type": "code",
   "execution_count": 3,
   "metadata": {},
   "outputs": [],
   "source": [
    "# Split the data into training and test sets. Use the default split size\n",
    "from sklearn.model_selection import train_test_split"
   ]
  },
  {
   "cell_type": "code",
   "execution_count": 39,
   "metadata": {},
   "outputs": [],
   "source": [
    "X_train, X_test, y_train, y_test = train_test_split(X, y)"
   ]
  },
  {
   "cell_type": "markdown",
   "metadata": {},
   "source": [
    "### Apply your model to the train set"
   ]
  },
  {
   "cell_type": "code",
   "execution_count": 40,
   "metadata": {},
   "outputs": [],
   "source": [
    "# Importing and initialize the linear regression model class\n",
    "from sklearn.linear_model import LinearRegression\n",
    "linreg = LinearRegression()"
   ]
  },
  {
   "cell_type": "code",
   "execution_count": 41,
   "metadata": {},
   "outputs": [
    {
     "data": {
      "text/plain": [
       "LinearRegression(copy_X=True, fit_intercept=True, n_jobs=None, normalize=False)"
      ]
     },
     "execution_count": 41,
     "metadata": {},
     "output_type": "execute_result"
    }
   ],
   "source": [
    "# Fit the model to train data\n",
    "linreg.fit(X_train, y_train)"
   ]
  },
  {
   "cell_type": "markdown",
   "metadata": {},
   "source": [
    "### Calculate predictions on training and test sets"
   ]
  },
  {
   "cell_type": "code",
   "execution_count": 42,
   "metadata": {},
   "outputs": [],
   "source": [
    "# Calculate predictions on training and test sets\n",
    "y_hat_train = linreg.predict(X_train)\n",
    "y_hat_test = linreg.predict(X_test)"
   ]
  },
  {
   "cell_type": "markdown",
   "metadata": {},
   "source": [
    "### Calculate training and test residuals"
   ]
  },
  {
   "cell_type": "code",
   "execution_count": 43,
   "metadata": {},
   "outputs": [],
   "source": [
    "# Calculate residuals\n",
    "train_res = y_hat_train - y_train\n",
    "test_res = y_hat_test - y_test"
   ]
  },
  {
   "cell_type": "markdown",
   "metadata": {},
   "source": [
    "### Calculate the Mean Squared Error (MSE)\n",
    "\n",
    "A good way to compare overall performance is to compare the mean squarred error for the predicted values on the training and test sets."
   ]
  },
  {
   "cell_type": "code",
   "execution_count": 44,
   "metadata": {},
   "outputs": [],
   "source": [
    "# Import mean_squared_error from sklearn.metrics\n",
    "from sklearn.metrics import mean_squared_error"
   ]
  },
  {
   "cell_type": "code",
   "execution_count": 45,
   "metadata": {},
   "outputs": [],
   "source": [
    "# Calculate training and test MSE\n",
    "training_mse = mean_squared_error(y_train, y_hat_train)\n",
    "test_mse = mean_squared_error(y_test, y_hat_test)"
   ]
  },
  {
   "cell_type": "code",
   "execution_count": 46,
   "metadata": {},
   "outputs": [
    {
     "name": "stdout",
     "output_type": "stream",
     "text": [
      "Training MSE: 22.02226271947483\n",
      "Test MSE: 21.647456053078887\n"
     ]
    }
   ],
   "source": [
    "print(f'Training MSE: {training_mse}')\n",
    "print(f'Test MSE: {test_mse}')"
   ]
  },
  {
   "cell_type": "markdown",
   "metadata": {},
   "source": [
    "If your test error is substantially worse than the train error, this is a sign that the model doesn't generalize well to future cases."
   ]
  },
  {
   "cell_type": "markdown",
   "metadata": {},
   "source": [
    "One simple way to demonstrate overfitting and underfitting is to alter the size of our train-test split. By default, scikit-learn allocates 25% of the data to the test set and 75% to the training set. Fitting a model on only 10% of the data is apt to lead to underfitting, while training a model on 99% of the data is apt to lead to overfitting."
   ]
  },
  {
   "cell_type": "markdown",
   "metadata": {},
   "source": [
    "# Evaluate the effect of train-test split size\n",
    "\n",
    "Iterate over a range of train-test split sizes from .5 to .95. For each of these, generate a new train/test split sample. Fit a model to the training sample and calculate both the training error and the test error (mse) for each of these splits. Plot these two curves (train error vs. training size and test error vs. training size) on a graph."
   ]
  },
  {
   "cell_type": "code",
   "execution_count": 75,
   "metadata": {},
   "outputs": [],
   "source": [
    "import random\n",
    "random.seed(11)\n",
    "\n",
    "df = pd.DataFrame()\n",
    "for i in range(5, 100, 5):\n",
    "    X_train, X_test, y_train, y_test = train_test_split(X, y, train_size=i/100)\n",
    "    linreg.fit(X_train, y_train)\n",
    "    y_hat_train = linreg.predict(X_train)\n",
    "    y_hat_test = linreg.predict(X_test)\n",
    "    train_mse = mean_squared_error(y_train, y_hat_train)\n",
    "    test_mse = mean_squared_error(y_test, y_hat_test)\n",
    "    df[i/100] = [train_mse, test_mse]\n",
    "df = df.transpose()\n",
    "df.columns = ['Tr_MSE', 'Te_MSE']"
   ]
  },
  {
   "cell_type": "code",
   "execution_count": 76,
   "metadata": {},
   "outputs": [
    {
     "data": {
      "text/html": [
       "<div>\n",
       "<style scoped>\n",
       "    .dataframe tbody tr th:only-of-type {\n",
       "        vertical-align: middle;\n",
       "    }\n",
       "\n",
       "    .dataframe tbody tr th {\n",
       "        vertical-align: top;\n",
       "    }\n",
       "\n",
       "    .dataframe thead th {\n",
       "        text-align: right;\n",
       "    }\n",
       "</style>\n",
       "<table border=\"1\" class=\"dataframe\">\n",
       "  <thead>\n",
       "    <tr style=\"text-align: right;\">\n",
       "      <th></th>\n",
       "      <th>Tr_MSE</th>\n",
       "      <th>Te_MSE</th>\n",
       "    </tr>\n",
       "  </thead>\n",
       "  <tbody>\n",
       "    <tr>\n",
       "      <td>0.05</td>\n",
       "      <td>28.561939</td>\n",
       "      <td>27.180666</td>\n",
       "    </tr>\n",
       "    <tr>\n",
       "      <td>0.10</td>\n",
       "      <td>13.037384</td>\n",
       "      <td>29.285327</td>\n",
       "    </tr>\n",
       "    <tr>\n",
       "      <td>0.15</td>\n",
       "      <td>23.356023</td>\n",
       "      <td>24.347659</td>\n",
       "    </tr>\n",
       "    <tr>\n",
       "      <td>0.20</td>\n",
       "      <td>26.337969</td>\n",
       "      <td>21.097387</td>\n",
       "    </tr>\n",
       "    <tr>\n",
       "      <td>0.25</td>\n",
       "      <td>23.881985</td>\n",
       "      <td>22.159248</td>\n",
       "    </tr>\n",
       "    <tr>\n",
       "      <td>0.30</td>\n",
       "      <td>20.194281</td>\n",
       "      <td>24.910371</td>\n",
       "    </tr>\n",
       "    <tr>\n",
       "      <td>0.35</td>\n",
       "      <td>18.099451</td>\n",
       "      <td>25.015374</td>\n",
       "    </tr>\n",
       "    <tr>\n",
       "      <td>0.40</td>\n",
       "      <td>28.311764</td>\n",
       "      <td>17.644051</td>\n",
       "    </tr>\n",
       "    <tr>\n",
       "      <td>0.45</td>\n",
       "      <td>18.937565</td>\n",
       "      <td>24.535775</td>\n",
       "    </tr>\n",
       "    <tr>\n",
       "      <td>0.50</td>\n",
       "      <td>24.376614</td>\n",
       "      <td>20.416726</td>\n",
       "    </tr>\n",
       "    <tr>\n",
       "      <td>0.55</td>\n",
       "      <td>17.121126</td>\n",
       "      <td>28.019180</td>\n",
       "    </tr>\n",
       "    <tr>\n",
       "      <td>0.60</td>\n",
       "      <td>20.238341</td>\n",
       "      <td>24.841470</td>\n",
       "    </tr>\n",
       "    <tr>\n",
       "      <td>0.65</td>\n",
       "      <td>20.874754</td>\n",
       "      <td>23.607323</td>\n",
       "    </tr>\n",
       "    <tr>\n",
       "      <td>0.70</td>\n",
       "      <td>20.853265</td>\n",
       "      <td>23.916425</td>\n",
       "    </tr>\n",
       "    <tr>\n",
       "      <td>0.75</td>\n",
       "      <td>20.480681</td>\n",
       "      <td>25.988296</td>\n",
       "    </tr>\n",
       "    <tr>\n",
       "      <td>0.80</td>\n",
       "      <td>23.189913</td>\n",
       "      <td>16.146061</td>\n",
       "    </tr>\n",
       "    <tr>\n",
       "      <td>0.85</td>\n",
       "      <td>22.923535</td>\n",
       "      <td>15.125851</td>\n",
       "    </tr>\n",
       "    <tr>\n",
       "      <td>0.90</td>\n",
       "      <td>22.293260</td>\n",
       "      <td>16.704002</td>\n",
       "    </tr>\n",
       "    <tr>\n",
       "      <td>0.95</td>\n",
       "      <td>21.930547</td>\n",
       "      <td>17.518573</td>\n",
       "    </tr>\n",
       "  </tbody>\n",
       "</table>\n",
       "</div>"
      ],
      "text/plain": [
       "         Tr_MSE     Te_MSE\n",
       "0.05  28.561939  27.180666\n",
       "0.10  13.037384  29.285327\n",
       "0.15  23.356023  24.347659\n",
       "0.20  26.337969  21.097387\n",
       "0.25  23.881985  22.159248\n",
       "0.30  20.194281  24.910371\n",
       "0.35  18.099451  25.015374\n",
       "0.40  28.311764  17.644051\n",
       "0.45  18.937565  24.535775\n",
       "0.50  24.376614  20.416726\n",
       "0.55  17.121126  28.019180\n",
       "0.60  20.238341  24.841470\n",
       "0.65  20.874754  23.607323\n",
       "0.70  20.853265  23.916425\n",
       "0.75  20.480681  25.988296\n",
       "0.80  23.189913  16.146061\n",
       "0.85  22.923535  15.125851\n",
       "0.90  22.293260  16.704002\n",
       "0.95  21.930547  17.518573"
      ]
     },
     "execution_count": 76,
     "metadata": {},
     "output_type": "execute_result"
    }
   ],
   "source": [
    "df"
   ]
  },
  {
   "cell_type": "code",
   "execution_count": 77,
   "metadata": {},
   "outputs": [
    {
     "data": {
      "text/plain": [
       "<matplotlib.legend.Legend at 0x19a752593c8>"
      ]
     },
     "execution_count": 77,
     "metadata": {},
     "output_type": "execute_result"
    },
    {
     "data": {
      "image/png": "[encoded data removed]",
      "text/plain": [
       "<Figure size 432x288 with 1 Axes>"
      ]
     },
     "metadata": {
      "needs_background": "light"
     },
     "output_type": "display_data"
    }
   ],
   "source": [
    "plt.scatter(df.index, df.Tr_MSE, label='Training Error')\n",
    "plt.scatter(df.index, df.Te_MSE, label='Testing Error')\n",
    "plt.legend(loc='upper left')"
   ]
  },
  {
   "cell_type": "markdown",
   "metadata": {},
   "source": [
    "# Evaluate the effect of train-test split size: Extension\n",
    "\n",
    "Repeat the previous example, but for each train-test split size, generate 100 iterations of models/errors and save the average train/test error. This will help account for any particularly good/bad models that might have resulted from poor/good splits in the data. "
   ]
  },
  {
   "cell_type": "code",
   "execution_count": 92,
   "metadata": {},
   "outputs": [],
   "source": [
    "random.seed(8)\n",
    "\n",
    "df = pd.DataFrame()\n",
    "for i in range(50, 100, 1):\n",
    "    count = 0\n",
    "    train_mean = []\n",
    "    test_mean = []\n",
    "    while count <= 100:\n",
    "        X_train, X_test, y_train, y_test = train_test_split(X, y, train_size=i/100)\n",
    "        linreg.fit(X_train, y_train)\n",
    "        y_hat_train = linreg.predict(X_train)\n",
    "        y_hat_test = linreg.predict(X_test)\n",
    "        train_mse = mean_squared_error(y_train, y_hat_train)\n",
    "        test_mse = mean_squared_error(y_test, y_hat_test)\n",
    "        train_mean.append(train_mse)\n",
    "        test_mean.append(test_mse)\n",
    "        count += 1\n",
    "    df[i/100] = [np.mean(train_mean), np.mean(test_mean), len(X_train)]\n",
    "df = df.transpose()\n",
    "df.columns = ['Tr_MSE', 'Te_MSE', 'Tr_Size']"
   ]
  },
  {
   "cell_type": "code",
   "execution_count": 93,
   "metadata": {},
   "outputs": [
    {
     "data": {
      "text/html": [
       "<div>\n",
       "<style scoped>\n",
       "    .dataframe tbody tr th:only-of-type {\n",
       "        vertical-align: middle;\n",
       "    }\n",
       "\n",
       "    .dataframe tbody tr th {\n",
       "        vertical-align: top;\n",
       "    }\n",
       "\n",
       "    .dataframe thead th {\n",
       "        text-align: right;\n",
       "    }\n",
       "</style>\n",
       "<table border=\"1\" class=\"dataframe\">\n",
       "  <thead>\n",
       "    <tr style=\"text-align: right;\">\n",
       "      <th></th>\n",
       "      <th>Tr_MSE</th>\n",
       "      <th>Te_MSE</th>\n",
       "      <th>Tr_Size</th>\n",
       "    </tr>\n",
       "  </thead>\n",
       "  <tbody>\n",
       "    <tr>\n",
       "      <td>0.50</td>\n",
       "      <td>21.468531</td>\n",
       "      <td>22.942460</td>\n",
       "      <td>253.0</td>\n",
       "    </tr>\n",
       "    <tr>\n",
       "      <td>0.51</td>\n",
       "      <td>21.223659</td>\n",
       "      <td>23.011107</td>\n",
       "      <td>258.0</td>\n",
       "    </tr>\n",
       "    <tr>\n",
       "      <td>0.52</td>\n",
       "      <td>21.534811</td>\n",
       "      <td>22.698476</td>\n",
       "      <td>263.0</td>\n",
       "    </tr>\n",
       "    <tr>\n",
       "      <td>0.53</td>\n",
       "      <td>21.263877</td>\n",
       "      <td>23.091337</td>\n",
       "      <td>268.0</td>\n",
       "    </tr>\n",
       "    <tr>\n",
       "      <td>0.54</td>\n",
       "      <td>21.165793</td>\n",
       "      <td>23.222429</td>\n",
       "      <td>273.0</td>\n",
       "    </tr>\n",
       "    <tr>\n",
       "      <td>0.55</td>\n",
       "      <td>21.044256</td>\n",
       "      <td>23.451641</td>\n",
       "      <td>278.0</td>\n",
       "    </tr>\n",
       "    <tr>\n",
       "      <td>0.56</td>\n",
       "      <td>21.217047</td>\n",
       "      <td>23.220444</td>\n",
       "      <td>283.0</td>\n",
       "    </tr>\n",
       "    <tr>\n",
       "      <td>0.57</td>\n",
       "      <td>21.300531</td>\n",
       "      <td>23.048337</td>\n",
       "      <td>288.0</td>\n",
       "    </tr>\n",
       "    <tr>\n",
       "      <td>0.58</td>\n",
       "      <td>21.349793</td>\n",
       "      <td>23.043613</td>\n",
       "      <td>293.0</td>\n",
       "    </tr>\n",
       "    <tr>\n",
       "      <td>0.59</td>\n",
       "      <td>21.067995</td>\n",
       "      <td>23.440480</td>\n",
       "      <td>298.0</td>\n",
       "    </tr>\n",
       "    <tr>\n",
       "      <td>0.60</td>\n",
       "      <td>21.736861</td>\n",
       "      <td>22.378963</td>\n",
       "      <td>303.0</td>\n",
       "    </tr>\n",
       "    <tr>\n",
       "      <td>0.61</td>\n",
       "      <td>21.307036</td>\n",
       "      <td>23.167975</td>\n",
       "      <td>308.0</td>\n",
       "    </tr>\n",
       "    <tr>\n",
       "      <td>0.62</td>\n",
       "      <td>21.436389</td>\n",
       "      <td>22.877281</td>\n",
       "      <td>313.0</td>\n",
       "    </tr>\n",
       "    <tr>\n",
       "      <td>0.63</td>\n",
       "      <td>21.540888</td>\n",
       "      <td>22.684016</td>\n",
       "      <td>318.0</td>\n",
       "    </tr>\n",
       "    <tr>\n",
       "      <td>0.64</td>\n",
       "      <td>21.505736</td>\n",
       "      <td>22.712518</td>\n",
       "      <td>323.0</td>\n",
       "    </tr>\n",
       "    <tr>\n",
       "      <td>0.65</td>\n",
       "      <td>21.346305</td>\n",
       "      <td>23.033271</td>\n",
       "      <td>328.0</td>\n",
       "    </tr>\n",
       "    <tr>\n",
       "      <td>0.66</td>\n",
       "      <td>21.363488</td>\n",
       "      <td>23.073174</td>\n",
       "      <td>333.0</td>\n",
       "    </tr>\n",
       "    <tr>\n",
       "      <td>0.67</td>\n",
       "      <td>21.587813</td>\n",
       "      <td>22.651095</td>\n",
       "      <td>339.0</td>\n",
       "    </tr>\n",
       "    <tr>\n",
       "      <td>0.68</td>\n",
       "      <td>21.482219</td>\n",
       "      <td>22.746856</td>\n",
       "      <td>344.0</td>\n",
       "    </tr>\n",
       "    <tr>\n",
       "      <td>0.69</td>\n",
       "      <td>21.559444</td>\n",
       "      <td>22.724012</td>\n",
       "      <td>349.0</td>\n",
       "    </tr>\n",
       "    <tr>\n",
       "      <td>0.70</td>\n",
       "      <td>21.369532</td>\n",
       "      <td>23.210574</td>\n",
       "      <td>354.0</td>\n",
       "    </tr>\n",
       "    <tr>\n",
       "      <td>0.71</td>\n",
       "      <td>21.628162</td>\n",
       "      <td>22.458383</td>\n",
       "      <td>359.0</td>\n",
       "    </tr>\n",
       "    <tr>\n",
       "      <td>0.72</td>\n",
       "      <td>21.457377</td>\n",
       "      <td>22.996389</td>\n",
       "      <td>364.0</td>\n",
       "    </tr>\n",
       "    <tr>\n",
       "      <td>0.73</td>\n",
       "      <td>21.491707</td>\n",
       "      <td>22.921027</td>\n",
       "      <td>369.0</td>\n",
       "    </tr>\n",
       "    <tr>\n",
       "      <td>0.74</td>\n",
       "      <td>21.289484</td>\n",
       "      <td>23.470112</td>\n",
       "      <td>374.0</td>\n",
       "    </tr>\n",
       "    <tr>\n",
       "      <td>0.75</td>\n",
       "      <td>21.622578</td>\n",
       "      <td>22.518212</td>\n",
       "      <td>379.0</td>\n",
       "    </tr>\n",
       "    <tr>\n",
       "      <td>0.76</td>\n",
       "      <td>21.630587</td>\n",
       "      <td>22.495952</td>\n",
       "      <td>384.0</td>\n",
       "    </tr>\n",
       "    <tr>\n",
       "      <td>0.77</td>\n",
       "      <td>21.529931</td>\n",
       "      <td>22.907435</td>\n",
       "      <td>389.0</td>\n",
       "    </tr>\n",
       "    <tr>\n",
       "      <td>0.78</td>\n",
       "      <td>21.657781</td>\n",
       "      <td>22.476924</td>\n",
       "      <td>394.0</td>\n",
       "    </tr>\n",
       "    <tr>\n",
       "      <td>0.79</td>\n",
       "      <td>21.719116</td>\n",
       "      <td>22.220800</td>\n",
       "      <td>399.0</td>\n",
       "    </tr>\n",
       "    <tr>\n",
       "      <td>0.80</td>\n",
       "      <td>21.554159</td>\n",
       "      <td>22.885484</td>\n",
       "      <td>404.0</td>\n",
       "    </tr>\n",
       "    <tr>\n",
       "      <td>0.81</td>\n",
       "      <td>21.760860</td>\n",
       "      <td>22.002385</td>\n",
       "      <td>409.0</td>\n",
       "    </tr>\n",
       "    <tr>\n",
       "      <td>0.82</td>\n",
       "      <td>21.604541</td>\n",
       "      <td>22.670287</td>\n",
       "      <td>414.0</td>\n",
       "    </tr>\n",
       "    <tr>\n",
       "      <td>0.83</td>\n",
       "      <td>21.606829</td>\n",
       "      <td>22.666518</td>\n",
       "      <td>419.0</td>\n",
       "    </tr>\n",
       "    <tr>\n",
       "      <td>0.84</td>\n",
       "      <td>21.522941</td>\n",
       "      <td>23.245731</td>\n",
       "      <td>425.0</td>\n",
       "    </tr>\n",
       "    <tr>\n",
       "      <td>0.85</td>\n",
       "      <td>21.673953</td>\n",
       "      <td>22.363976</td>\n",
       "      <td>430.0</td>\n",
       "    </tr>\n",
       "    <tr>\n",
       "      <td>0.86</td>\n",
       "      <td>21.586900</td>\n",
       "      <td>22.904089</td>\n",
       "      <td>435.0</td>\n",
       "    </tr>\n",
       "    <tr>\n",
       "      <td>0.87</td>\n",
       "      <td>21.502350</td>\n",
       "      <td>23.557521</td>\n",
       "      <td>440.0</td>\n",
       "    </tr>\n",
       "    <tr>\n",
       "      <td>0.88</td>\n",
       "      <td>21.499607</td>\n",
       "      <td>23.719397</td>\n",
       "      <td>445.0</td>\n",
       "    </tr>\n",
       "    <tr>\n",
       "      <td>0.89</td>\n",
       "      <td>21.740855</td>\n",
       "      <td>21.836739</td>\n",
       "      <td>450.0</td>\n",
       "    </tr>\n",
       "    <tr>\n",
       "      <td>0.90</td>\n",
       "      <td>21.748579</td>\n",
       "      <td>21.719836</td>\n",
       "      <td>455.0</td>\n",
       "    </tr>\n",
       "    <tr>\n",
       "      <td>0.91</td>\n",
       "      <td>21.580644</td>\n",
       "      <td>23.379089</td>\n",
       "      <td>460.0</td>\n",
       "    </tr>\n",
       "    <tr>\n",
       "      <td>0.92</td>\n",
       "      <td>21.622167</td>\n",
       "      <td>23.092287</td>\n",
       "      <td>465.0</td>\n",
       "    </tr>\n",
       "    <tr>\n",
       "      <td>0.93</td>\n",
       "      <td>21.641054</td>\n",
       "      <td>22.973632</td>\n",
       "      <td>470.0</td>\n",
       "    </tr>\n",
       "    <tr>\n",
       "      <td>0.94</td>\n",
       "      <td>21.737633</td>\n",
       "      <td>21.582310</td>\n",
       "      <td>475.0</td>\n",
       "    </tr>\n",
       "    <tr>\n",
       "      <td>0.95</td>\n",
       "      <td>21.647746</td>\n",
       "      <td>23.052674</td>\n",
       "      <td>480.0</td>\n",
       "    </tr>\n",
       "    <tr>\n",
       "      <td>0.96</td>\n",
       "      <td>21.702262</td>\n",
       "      <td>22.076405</td>\n",
       "      <td>485.0</td>\n",
       "    </tr>\n",
       "    <tr>\n",
       "      <td>0.97</td>\n",
       "      <td>21.628885</td>\n",
       "      <td>24.356810</td>\n",
       "      <td>490.0</td>\n",
       "    </tr>\n",
       "    <tr>\n",
       "      <td>0.98</td>\n",
       "      <td>21.695252</td>\n",
       "      <td>22.202912</td>\n",
       "      <td>495.0</td>\n",
       "    </tr>\n",
       "    <tr>\n",
       "      <td>0.99</td>\n",
       "      <td>21.676981</td>\n",
       "      <td>23.966218</td>\n",
       "      <td>500.0</td>\n",
       "    </tr>\n",
       "  </tbody>\n",
       "</table>\n",
       "</div>"
      ],
      "text/plain": [
       "         Tr_MSE     Te_MSE  Tr_Size\n",
       "0.50  21.468531  22.942460    253.0\n",
       "0.51  21.223659  23.011107    258.0\n",
       "0.52  21.534811  22.698476    263.0\n",
       "0.53  21.263877  23.091337    268.0\n",
       "0.54  21.165793  23.222429    273.0\n",
       "0.55  21.044256  23.451641    278.0\n",
       "0.56  21.217047  23.220444    283.0\n",
       "0.57  21.300531  23.048337    288.0\n",
       "0.58  21.349793  23.043613    293.0\n",
       "0.59  21.067995  23.440480    298.0\n",
       "0.60  21.736861  22.378963    303.0\n",
       "0.61  21.307036  23.167975    308.0\n",
       "0.62  21.436389  22.877281    313.0\n",
       "0.63  21.540888  22.684016    318.0\n",
       "0.64  21.505736  22.712518    323.0\n",
       "0.65  21.346305  23.033271    328.0\n",
       "0.66  21.363488  23.073174    333.0\n",
       "0.67  21.587813  22.651095    339.0\n",
       "0.68  21.482219  22.746856    344.0\n",
       "0.69  21.559444  22.724012    349.0\n",
       "0.70  21.369532  23.210574    354.0\n",
       "0.71  21.628162  22.458383    359.0\n",
       "0.72  21.457377  22.996389    364.0\n",
       "0.73  21.491707  22.921027    369.0\n",
       "0.74  21.289484  23.470112    374.0\n",
       "0.75  21.622578  22.518212    379.0\n",
       "0.76  21.630587  22.495952    384.0\n",
       "0.77  21.529931  22.907435    389.0\n",
       "0.78  21.657781  22.476924    394.0\n",
       "0.79  21.719116  22.220800    399.0\n",
       "0.80  21.554159  22.885484    404.0\n",
       "0.81  21.760860  22.002385    409.0\n",
       "0.82  21.604541  22.670287    414.0\n",
       "0.83  21.606829  22.666518    419.0\n",
       "0.84  21.522941  23.245731    425.0\n",
       "0.85  21.673953  22.363976    430.0\n",
       "0.86  21.586900  22.904089    435.0\n",
       "0.87  21.502350  23.557521    440.0\n",
       "0.88  21.499607  23.719397    445.0\n",
       "0.89  21.740855  21.836739    450.0\n",
       "0.90  21.748579  21.719836    455.0\n",
       "0.91  21.580644  23.379089    460.0\n",
       "0.92  21.622167  23.092287    465.0\n",
       "0.93  21.641054  22.973632    470.0\n",
       "0.94  21.737633  21.582310    475.0\n",
       "0.95  21.647746  23.052674    480.0\n",
       "0.96  21.702262  22.076405    485.0\n",
       "0.97  21.628885  24.356810    490.0\n",
       "0.98  21.695252  22.202912    495.0\n",
       "0.99  21.676981  23.966218    500.0"
      ]
     },
     "execution_count": 93,
     "metadata": {},
     "output_type": "execute_result"
    }
   ],
   "source": [
    "df"
   ]
  },
  {
   "cell_type": "code",
   "execution_count": 94,
   "metadata": {},
   "outputs": [
    {
     "data": {
      "text/plain": [
       "<matplotlib.legend.Legend at 0x19a76a28c88>"
      ]
     },
     "execution_count": 94,
     "metadata": {},
     "output_type": "execute_result"
    },
    {
     "data": {
      "image/png": "[encoded data removed]",
      "text/plain": [
       "<Figure size 432x288 with 1 Axes>"
      ]
     },
     "metadata": {
      "needs_background": "light"
     },
     "output_type": "display_data"
    }
   ],
   "source": [
    "plt.scatter(df.index, df.Tr_MSE, label='Training Error')\n",
    "plt.scatter(df.index, df.Te_MSE, label='Testing Error')\n",
    "plt.legend(loc='upper left')"
   ]
  },
  {
   "cell_type": "markdown",
   "metadata": {},
   "source": [
    "What's happening here? Evaluate your result!"
   ]
  },
  {
   "cell_type": "markdown",
   "metadata": {},
   "source": [
    "##  Summary "
   ]
  },
  {
   "cell_type": "markdown",
   "metadata": {},
   "source": [
    "Congratulations! You now practiced your knowledge of MSE and used your train-test split skills to validate your model."
   ]
  }
 ],
 "metadata": {
  "kernelspec": {
   "display_name": "learn-env",
   "language": "python",
   "name": "learn-env"
  },
  "language_info": {
   "codemirror_mode": {
    "name": "ipython",
    "version": 3
   },
   "file_extension": ".py",
   "mimetype": "text/x-python",
   "name": "python",
   "nbconvert_exporter": "python",
   "pygments_lexer": "ipython3",
   "version": "3.6.9"
  },
  "toc": {
   "base_numbering": 1,
   "nav_menu": {},
   "number_sections": true,
   "sideBar": true,
   "skip_h1_title": false,
   "title_cell": "Table of Contents",
   "title_sidebar": "Contents",
   "toc_cell": false,
   "toc_position": {},
   "toc_section_display": true,
   "toc_window_display": false
  },
  "varInspector": {
   "cols": {
    "lenName": 16,
    "lenType": 16,
    "lenVar": 40
   },
   "kernels_config": {
    "python": {
     "delete_cmd_postfix": "",
     "delete_cmd_prefix": "del ",
     "library": "var_list.py",
     "varRefreshCmd": "print(var_dic_list())"
    },
    "r": {
     "delete_cmd_postfix": ") ",
     "delete_cmd_prefix": "rm(",
     "library": "var_list.r",
     "varRefreshCmd": "cat(var_dic_list()) "
    }
   },
   "types_to_exclude": [
    "module",
    "function",
    "builtin_function_or_method",
    "instance",
    "_Feature"
   ],
   "window_display": true
  }
 },
 "nbformat": 4,
 "nbformat_minor": 2
}
